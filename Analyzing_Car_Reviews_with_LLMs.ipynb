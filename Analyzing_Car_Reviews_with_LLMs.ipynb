{
  "cells": [
    {
      "cell_type": "markdown",
      "metadata": {
        "id": "view-in-github",
        "colab_type": "text"
      },
      "source": [
        "<a href=\"https://colab.research.google.com/github/gmohor21/Car-Reviews-Analysis-w-LLMs/blob/dev%2Fcar-review-analysis/Analyzing_Car_Reviews_with_LLMs.ipynb\" target=\"_parent\"><img src=\"https://colab.research.google.com/assets/colab-badge.svg\" alt=\"Open In Colab\"/></a>"
      ]
    },
    {
      "source": [
        "![image](car.jpeg)\n",
        "\n",
        "**Car-ing is sharing**, an auto dealership company for car sales and rental, is taking their services to the next level thanks to **Large Language Models (LLMs)**.\n",
        "\n",
        "As their newly recruited AI and NLP developer, you've been asked to prototype a chatbot app with multiple functionalities that not only assist customers but also provide support to human agents in the company.\n",
        "\n",
        "The solution should receive textual prompts and use a variety of pre-trained Hugging Face LLMs to respond to a series of tasks, e.g. classifying the sentiment in a car’s text review, answering a customer question, summarizing or translating text, etc.\n"
      ],
      "metadata": {
        "id": "9aabafca-8129-4943-b865-d5e897637253"
      },
      "id": "9aabafca-8129-4943-b865-d5e897637253",
      "cell_type": "markdown"
    },
    {
      "source": [
        "# Introduction and Setup\n",
        "\n",
        "## Car Review Analysis using Large Language Models (LLMs)\n",
        "\n",
        "This Jupyter Notebook demonstrates the use of various pre-trained Large Language Models (LLMs) to analyze car reviews. It covers tasks such as sentiment analysis, translation, question answering, and text summarization.\n",
        "\n",
        "The project is part of a prototype for a chatbot app developed for \"Car-ing is sharing\", a car sales and rental company. The chatbot aims to address diverse inquiries and provide support to both customers and human agents."
      ],
      "metadata": {
        "id": "2bd9c1c9-a729-48a9-a136-af9ed5c3c092"
      },
      "cell_type": "markdown",
      "id": "2bd9c1c9-a729-48a9-a136-af9ed5c3c092"
    },
    {
      "source": [
        "## Before you start\n",
        "\n",
        "In order to complete the project you may wish to install some Hugging Face libraries such as `transformers` and `evaluate`."
      ],
      "metadata": {
        "id": "972c0004-e8c7-4539-967d-0c32167ae540"
      },
      "id": "972c0004-e8c7-4539-967d-0c32167ae540",
      "cell_type": "markdown"
    },
    {
      "source": [
        "# Install required packages\n",
        "`!pip install transformers pandas numpy scikit-learn sacrebleu detoxify`"
      ],
      "metadata": {
        "id": "7bfa31d9-1acd-4899-aedc-8e4a218f974d"
      },
      "cell_type": "markdown",
      "id": "7bfa31d9-1acd-4899-aedc-8e4a218f974d"
    },
    {
      "source": [
        "!pip install transformers\n",
        "!pip install evaluate\n",
        "\n",
        "from transformers import logging\n",
        "logging.set_verbosity(logging.WARNING)"
      ],
      "metadata": {
        "executionCancelledAt": null,
        "executionTime": 12152,
        "lastExecutedAt": 1718430228858,
        "lastScheduledRunId": null,
        "lastSuccessfullyExecutedCode": "!pip install transformers\n!pip install evaluate\n\nfrom transformers import logging\nlogging.set_verbosity(logging.WARNING)",
        "outputsMetadata": {
          "0": {
            "height": 553,
            "type": "stream"
          }
        },
        "collapsed": true,
        "jupyter": {
          "outputs_hidden": true,
          "source_hidden": false
        },
        "lastExecutedByKernel": "8854da9d-c6b3-4cc7-8543-047b759181cd",
        "id": "5325a4c0-ceb3-4b66-acd2-5eadcefe3a63",
        "outputId": "61d41ecd-da7d-4a6a-d5de-cccef87aad35"
      },
      "id": "5325a4c0-ceb3-4b66-acd2-5eadcefe3a63",
      "cell_type": "code",
      "execution_count": null,
      "outputs": [
        {
          "output_type": "stream",
          "name": "stdout",
          "text": "Defaulting to user installation because normal site-packages is not writeable\nRequirement already satisfied: transformers in /usr/local/lib/python3.8/dist-packages (4.29.0)\nRequirement already satisfied: filelock in /usr/local/lib/python3.8/dist-packages (from transformers) (3.8.0)\nRequirement already satisfied: huggingface-hub<1.0,>=0.11.0 in /usr/local/lib/python3.8/dist-packages (from transformers) (0.11.0)\nRequirement already satisfied: numpy>=1.17 in /usr/local/lib/python3.8/dist-packages (from transformers) (1.23.2)\nRequirement already satisfied: packaging>=20.0 in /usr/local/lib/python3.8/dist-packages (from transformers) (23.2)\nRequirement already satisfied: pyyaml>=5.1 in /usr/local/lib/python3.8/dist-packages (from transformers) (6.0.1)\nRequirement already satisfied: regex!=2019.12.17 in /usr/local/lib/python3.8/dist-packages (from transformers) (2022.8.17)\nRequirement already satisfied: requests in /usr/local/lib/python3.8/dist-packages (from transformers) (2.31.0)\nRequirement already satisfied: tokenizers!=0.11.3,<0.14,>=0.11.1 in /usr/local/lib/python3.8/dist-packages (from transformers) (0.13.2)\nRequirement already satisfied: tqdm>=4.27 in /usr/local/lib/python3.8/dist-packages (from transformers) (4.64.0)\nRequirement already satisfied: typing-extensions>=3.7.4.3 in /usr/local/lib/python3.8/dist-packages (from huggingface-hub<1.0,>=0.11.0->transformers) (4.9.0)\nRequirement already satisfied: charset-normalizer<4,>=2 in /usr/local/lib/python3.8/dist-packages (from requests->transformers) (2.0.12)\nRequirement already satisfied: idna<4,>=2.5 in /usr/lib/python3/dist-packages (from requests->transformers) (2.8)\nRequirement already satisfied: urllib3<3,>=1.21.1 in /usr/lib/python3/dist-packages (from requests->transformers) (1.25.8)\nRequirement already satisfied: certifi>=2017.4.17 in /usr/lib/python3/dist-packages (from requests->transformers) (2019.11.28)\nDefaulting to user installation because normal site-packages is not writeable\nCollecting evaluate\n  Downloading evaluate-0.4.2-py3-none-any.whl.metadata (9.3 kB)\nRequirement already satisfied: datasets>=2.0.0 in /usr/local/lib/python3.8/dist-packages (from evaluate) (2.10.1)\nRequirement already satisfied: numpy>=1.17 in /usr/local/lib/python3.8/dist-packages (from evaluate) (1.23.2)\nRequirement already satisfied: dill in /usr/local/lib/python3.8/dist-packages (from evaluate) (0.3.5.1)\nRequirement already satisfied: pandas in /usr/local/lib/python3.8/dist-packages (from evaluate) (1.5.1)\nRequirement already satisfied: requests>=2.19.0 in /usr/local/lib/python3.8/dist-packages (from evaluate) (2.31.0)\nRequirement already satisfied: tqdm>=4.62.1 in /usr/local/lib/python3.8/dist-packages (from evaluate) (4.64.0)\nRequirement already satisfied: xxhash in /usr/local/lib/python3.8/dist-packages (from evaluate) (3.3.0)\nRequirement already satisfied: multiprocess in /usr/local/lib/python3.8/dist-packages (from evaluate) (0.70.13)\nRequirement already satisfied: fsspec>=2021.05.0 in /usr/local/lib/python3.8/dist-packages (from fsspec[http]>=2021.05.0->evaluate) (2022.7.1)\nRequirement already satisfied: huggingface-hub>=0.7.0 in /usr/local/lib/python3.8/dist-packages (from evaluate) (0.11.0)\nRequirement already satisfied: packaging in /usr/local/lib/python3.8/dist-packages (from evaluate) (23.2)\nRequirement already satisfied: pyarrow>=6.0.0 in /usr/local/lib/python3.8/dist-packages (from datasets>=2.0.0->evaluate) (7.0.0)\nRequirement already satisfied: aiohttp in /usr/local/lib/python3.8/dist-packages (from datasets>=2.0.0->evaluate) (3.8.1)\nRequirement already satisfied: responses<0.19 in /usr/local/lib/python3.8/dist-packages (from datasets>=2.0.0->evaluate) (0.10.15)\nRequirement already satisfied: pyyaml>=5.1 in /usr/local/lib/python3.8/dist-packages (from datasets>=2.0.0->evaluate) (6.0.1)\nRequirement already satisfied: filelock in /usr/local/lib/python3.8/dist-packages (from huggingface-hub>=0.7.0->evaluate) (3.8.0)\nRequirement already satisfied: typing-extensions>=3.7.4.3 in /usr/local/lib/python3.8/dist-packages (from huggingface-hub>=0.7.0->evaluate) (4.9.0)\nRequirement already satisfied: charset-normalizer<4,>=2 in /usr/local/lib/python3.8/dist-packages (from requests>=2.19.0->evaluate) (2.0.12)\nRequirement already satisfied: idna<4,>=2.5 in /usr/lib/python3/dist-packages (from requests>=2.19.0->evaluate) (2.8)\nRequirement already satisfied: urllib3<3,>=1.21.1 in /usr/lib/python3/dist-packages (from requests>=2.19.0->evaluate) (1.25.8)\nRequirement already satisfied: certifi>=2017.4.17 in /usr/lib/python3/dist-packages (from requests>=2.19.0->evaluate) (2019.11.28)\nRequirement already satisfied: python-dateutil>=2.8.1 in /usr/local/lib/python3.8/dist-packages (from pandas->evaluate) (2.8.2)\nRequirement already satisfied: pytz>=2020.1 in /usr/local/lib/python3.8/dist-packages (from pandas->evaluate) (2022.7)\nRequirement already satisfied: six>=1.5 in /usr/lib/python3/dist-packages (from python-dateutil>=2.8.1->pandas->evaluate) (1.14.0)\nRequirement already satisfied: attrs>=17.3.0 in /usr/local/lib/python3.8/dist-packages (from aiohttp->datasets>=2.0.0->evaluate) (23.2.0)\nRequirement already satisfied: multidict<7.0,>=4.5 in /usr/local/lib/python3.8/dist-packages (from aiohttp->datasets>=2.0.0->evaluate) (6.0.2)\nRequirement already satisfied: async-timeout<5.0,>=4.0.0a3 in /usr/local/lib/python3.8/dist-packages (from aiohttp->datasets>=2.0.0->evaluate) (4.0.2)\nRequirement already satisfied: yarl<2.0,>=1.0 in /usr/local/lib/python3.8/dist-packages (from aiohttp->datasets>=2.0.0->evaluate) (1.8.1)\nRequirement already satisfied: frozenlist>=1.1.1 in /usr/local/lib/python3.8/dist-packages (from aiohttp->datasets>=2.0.0->evaluate) (1.3.1)\nRequirement already satisfied: aiosignal>=1.1.2 in /usr/local/lib/python3.8/dist-packages (from aiohttp->datasets>=2.0.0->evaluate) (1.2.0)\nDownloading evaluate-0.4.2-py3-none-any.whl (84 kB)\n\u001b[2K   \u001b[90m━━━━━━━━━━━━━━━━━━━━━━━━━━━━━━━━━━━━━━━━\u001b[0m \u001b[32m84.1/84.1 kB\u001b[0m \u001b[31m12.0 MB/s\u001b[0m eta \u001b[36m0:00:00\u001b[0m\n\u001b[?25hInstalling collected packages: evaluate\n\u001b[33m  WARNING: The script evaluate-cli is installed in '/home/repl/.local/bin' which is not on PATH.\n  Consider adding this directory to PATH or, if you prefer to suppress this warning, use --no-warn-script-location.\u001b[0m\u001b[33m\n\u001b[0mSuccessfully installed evaluate-0.4.2\n"
        }
      ]
    },
    {
      "source": [
        "# Start your code here!"
      ],
      "metadata": {
        "executionCancelledAt": null,
        "executionTime": 50,
        "lastExecutedAt": 1718429954481,
        "lastExecutedByKernel": "e3ecfa54-e9a9-43ee-b701-d9c07d174616",
        "lastScheduledRunId": null,
        "lastSuccessfullyExecutedCode": "# Start your code here!",
        "id": "6c3a3bf7-8675-4fdf-8580-0c69b58f471e"
      },
      "cell_type": "code",
      "id": "6c3a3bf7-8675-4fdf-8580-0c69b58f471e",
      "outputs": [],
      "execution_count": null
    },
    {
      "source": [
        "# Import required libraries\n",
        "\n",
        "```import pandas as pd\n",
        "import numpy as np\n",
        "from sklearn.model_selection import train_test_split\n",
        "from sklearn.metrics import accuracy_score, f1_score\n",
        "from transformers import pipeline, AutoModelForSequenceClassification, AutoTokenizer\n",
        "from sacrebleu.metrics import BLEU\n",
        "from detoxify import Detoxify"
      ],
      "metadata": {
        "id": "11b89339-dbaa-4a73-8532-25114bfe90fc"
      },
      "cell_type": "markdown",
      "id": "11b89339-dbaa-4a73-8532-25114bfe90fc"
    },
    {
      "source": [
        "# Import required libraries\n",
        "from transformers import pipeline, AutoModelForSequenceClassification, AutoTokenizer\n",
        "import pandas as pd\n",
        "from sklearn.metrics import accuracy_score, f1_score\n",
        "import torch"
      ],
      "metadata": {
        "executionCancelledAt": null,
        "executionTime": 5650,
        "lastExecutedAt": 1718430260547,
        "lastExecutedByKernel": "8854da9d-c6b3-4cc7-8543-047b759181cd",
        "lastScheduledRunId": null,
        "lastSuccessfullyExecutedCode": "# Import required libraries\nfrom transformers import pipeline, AutoModelForSequenceClassification, AutoTokenizer\nimport pandas as pd\nfrom sklearn.metrics import accuracy_score, f1_score\nimport torch",
        "id": "a6d2934d-9fb2-4698-ac7d-b077327f4379"
      },
      "cell_type": "code",
      "id": "a6d2934d-9fb2-4698-ac7d-b077327f4379",
      "outputs": [],
      "execution_count": null
    },
    {
      "source": [
        "import os\n",
        "\n",
        "# Define the data directory\n",
        "data_directory = 'data'\n",
        "\n",
        "# Check if the data directory exists\n",
        "if os.path.exists(data_directory):\n",
        "    # List all files in the data directory\n",
        "    files_in_data_directory = os.listdir(data_directory)\n",
        "    files_in_data_directory\n",
        "else:\n",
        "    f\"'{data_directory}' directory does not exist.\""
      ],
      "metadata": {
        "executionCancelledAt": null,
        "executionTime": 47,
        "lastExecutedAt": 1718429954577,
        "lastExecutedByKernel": "e3ecfa54-e9a9-43ee-b701-d9c07d174616",
        "lastScheduledRunId": null,
        "lastSuccessfullyExecutedCode": "import os\n\n# Define the data directory\ndata_directory = 'data'\n\n# Check if the data directory exists\nif os.path.exists(data_directory):\n    # List all files in the data directory\n    files_in_data_directory = os.listdir(data_directory)\n    files_in_data_directory\nelse:\n    f\"'{data_directory}' directory does not exist.\"",
        "outputsMetadata": {
          "0": {
            "height": 80,
            "type": "stream"
          }
        },
        "id": "5a1b5387-8ba4-4e0e-a22f-50014fc777f7"
      },
      "cell_type": "code",
      "id": "5a1b5387-8ba4-4e0e-a22f-50014fc777f7",
      "outputs": [],
      "execution_count": null
    },
    {
      "source": [
        "files_in_data_directory"
      ],
      "metadata": {
        "executionCancelledAt": null,
        "executionTime": 49,
        "lastExecutedAt": 1718429954627,
        "lastExecutedByKernel": "e3ecfa54-e9a9-43ee-b701-d9c07d174616",
        "lastScheduledRunId": null,
        "lastSuccessfullyExecutedCode": "files_in_data_directory",
        "id": "b84821ab-e662-4d2f-b236-f5d245338290",
        "outputId": "3de37924-6273-4f97-e1ef-f9cfdbb0454c"
      },
      "cell_type": "code",
      "id": "b84821ab-e662-4d2f-b236-f5d245338290",
      "outputs": [
        {
          "output_type": "execute_result",
          "data": {
            "text/plain": "['car_reviews.csv', 'reference_translations.txt']"
          },
          "metadata": {},
          "execution_count": 8
        }
      ],
      "execution_count": null
    },
    {
      "source": [
        "# Load the car reviews dataset with proper handling of irregular delimiters\n",
        "#df = pd.read_csv('data/car_reviews.csv', error_bad_lines=False)"
      ],
      "metadata": {
        "executionCancelledAt": null,
        "executionTime": 46,
        "lastExecutedAt": 1718429954673,
        "lastExecutedByKernel": "e3ecfa54-e9a9-43ee-b701-d9c07d174616",
        "lastScheduledRunId": null,
        "lastSuccessfullyExecutedCode": "# Load the car reviews dataset with proper handling of irregular delimiters\n#df = pd.read_csv('data/car_reviews.csv', error_bad_lines=False)",
        "outputsMetadata": {
          "0": {
            "height": 59,
            "type": "stream"
          }
        },
        "id": "6569e1b4-3576-4211-b68c-258c48329047"
      },
      "cell_type": "code",
      "id": "6569e1b4-3576-4211-b68c-258c48329047",
      "outputs": [],
      "execution_count": null
    },
    {
      "source": [
        "# Load the dataset\n",
        "file_path = 'data/car_reviews.csv'\n",
        "df = pd.read_csv(file_path, sep=';', engine='python')"
      ],
      "metadata": {
        "executionCancelledAt": null,
        "executionTime": 74,
        "lastExecutedAt": 1718430281185,
        "lastExecutedByKernel": "8854da9d-c6b3-4cc7-8543-047b759181cd",
        "lastScheduledRunId": null,
        "lastSuccessfullyExecutedCode": "# Load the dataset\nfile_path = 'data/car_reviews.csv'\ndf = pd.read_csv(file_path, sep=';', engine='python')",
        "id": "35dbaad8-6e93-4c43-b59c-60374e130db8"
      },
      "cell_type": "code",
      "id": "35dbaad8-6e93-4c43-b59c-60374e130db8",
      "outputs": [],
      "execution_count": null
    },
    {
      "source": [
        "df"
      ],
      "metadata": {
        "executionCancelledAt": null,
        "executionTime": 44,
        "lastExecutedAt": 1718429954809,
        "lastExecutedByKernel": "e3ecfa54-e9a9-43ee-b701-d9c07d174616",
        "lastScheduledRunId": null,
        "lastSuccessfullyExecutedCode": "df",
        "outputsMetadata": {
          "0": {
            "height": 1073,
            "type": "dataFrame",
            "columns": {
              "Estoy muy satisfecho con mi Nissan NV SL 2014. Utilizo esta camioneta para mis entregas comerciales y uso personal.": {
                "wrap": true
              },
              "Review": {
                "wrap": true
              }
            }
          }
        },
        "id": "4f0b9acc-1e06-4d4a-8b80-9b3465e58a64",
        "outputId": "563521f6-256a-4268-ab25-4177d22fd3fd"
      },
      "cell_type": "code",
      "id": "4f0b9acc-1e06-4d4a-8b80-9b3465e58a64",
      "outputs": [
        {
          "output_type": "execute_result",
          "data": {
            "application/com.datacamp.data-table.v2+json": {
              "table": {
                "schema": {
                  "fields": [
                    {
                      "name": "index",
                      "type": "integer"
                    },
                    {
                      "name": "Review",
                      "type": "string"
                    },
                    {
                      "name": "Class",
                      "type": "string"
                    }
                  ],
                  "primaryKey": [
                    "index"
                  ],
                  "pandas_version": "1.4.0"
                },
                "data": {
                  "index": [
                    0,
                    1,
                    2,
                    3,
                    4
                  ],
                  "Review": [
                    "I am very satisfied with my 2014 Nissan NV SL. I use this van for my business deliveries and personal use. Camping, road trips, etc. We dont have any children so I store most of the seats in my warehouse. I wanted the passenger van for the rear air conditioning. We drove our van from Florida to California for a Cross Country trip in 2014. We averaged about 18 mpg. We drove thru a lot of rain and It was a very comfortable and stable vehicle. The V8 Nissan Titan engine is a 500k mile engine. It has been tested many times by delivery and trucking companies. This is why Nissan gives you a 5 year or 100k mile bumper to bumper warranty. Many people are scared about driving this van because of its size. But with front and rear sonar sensors, large mirrors and the back up camera. It is easy to drive. The front and rear sensors also monitor the front and rear sides of the bumpers making it easier to park close to objects. Our Nissan NV is a Tow Monster. It pulls our 5000 pound travel trailer like its not even there. I have plenty of power to pass a vehicle if needed. The 5.6 liter engine produces 317 hp. I have owned Chevy and Ford vans and there were not very comfortable and had little cockpit room. The Nissan NV is the only vehicle made that has the engine forward like a pick up truck giving the driver plenty of room and comfort in the cockpit area. I dont have any negatives to say about my NV. This is a wide vehicle. The only modification I would like to see from Nissan is for them to add amber side mirror marker lights.BTW. I now own a 2016 Nissan NVP SL. Love it.",
                    "The car is fine. It's a bit loud and not very powerful. On one hand, compared to its peers, the interior is well-built. The transmission failed a few years ago, and the dealer replaced it under warranty with no issues. Now, about 60k miles later, the transmission is failing again. It sounds like a truck, and the issues are well-documented. The dealer tells me it is normal, refusing to do anything to resolve the issue. After owning the car for 4 years, there are many other vehicles I would purchase over this one. Initially, I really liked what the brand is about: ride quality, reliability, etc. But I will not purchase another one. Despite these concerns, I must say, the level of comfort in the car has always been satisfactory, but not worth the rest of issues found.",
                    "My first foreign car. Love it, I would buy another.",
                    "I've come across numerous reviews praising the Rogue, and I genuinely feel like I might be missing something. It's only been a week since I got the car, and I am genuinely disappointed. I truly wish I could return it. My main concern revolves around what I see as a significant design flaw (which I believe also exists in the Murano, though that wasn't much better and considerably pricier). The rear windshield is just too small. The headrests in the back seat obstruct the sides of the rearview window. This \"Crossover\" feels more like a cheaply made compact car. My other vehicle is a Sonata, and it provides a significantly quieter and smoother ride. I did not anticipate this car to ride so roughly; my 2006 Pathfinder had a smoother ride! I would rate this car a 5 all around.",
                    "I've been dreaming of owning an SUV for quite a while, but I've been driving cars that were already paid for during an extended period. I ultimately made the decision to transition to a brand-new car, which, of course, involved taking on new payments. However, given that I don't drive extensively, I was inclined to avoid a substantial financial commitment. The Nissan Rogue provides me with the desired SUV experience without burdening me with an exorbitant payment; the financial arrangement is quite reasonable. Handling and styling are great; I have hauled 12 bags of mulch in the back with the seats down and could have held more. I am VERY satisfied overall. I find myself needing to exercise extra caution when making lane changes, particularly owing to the blind spots resulting from the small side windows situated towards the rear of the vehicle. To address this concern, I am actively engaged in making adjustments to my mirrors and consciously reducing the frequency of lane changes. The engine delivers strong performance, and the ride is really smooth."
                  ],
                  "Class": [
                    "POSITIVE",
                    "NEGATIVE",
                    "POSITIVE",
                    "NEGATIVE",
                    "POSITIVE"
                  ]
                }
              },
              "total_rows": 5,
              "truncation_type": null
            },
            "text/plain": "                                              Review     Class\n0  I am very satisfied with my 2014 Nissan NV SL....  POSITIVE\n1  The car is fine. It's a bit loud and not very ...  NEGATIVE\n2  My first foreign car. Love it, I would buy ano...  POSITIVE\n3  I've come across numerous reviews praising the...  NEGATIVE\n4  I've been dreaming of owning an SUV for quite ...  POSITIVE",
            "text/html": "<div>\n<style scoped>\n    .dataframe tbody tr th:only-of-type {\n        vertical-align: middle;\n    }\n\n    .dataframe tbody tr th {\n        vertical-align: top;\n    }\n\n    .dataframe thead th {\n        text-align: right;\n    }\n</style>\n<table border=\"1\" class=\"dataframe\">\n  <thead>\n    <tr style=\"text-align: right;\">\n      <th></th>\n      <th>Review</th>\n      <th>Class</th>\n    </tr>\n  </thead>\n  <tbody>\n    <tr>\n      <th>0</th>\n      <td>I am very satisfied with my 2014 Nissan NV SL....</td>\n      <td>POSITIVE</td>\n    </tr>\n    <tr>\n      <th>1</th>\n      <td>The car is fine. It's a bit loud and not very ...</td>\n      <td>NEGATIVE</td>\n    </tr>\n    <tr>\n      <th>2</th>\n      <td>My first foreign car. Love it, I would buy ano...</td>\n      <td>POSITIVE</td>\n    </tr>\n    <tr>\n      <th>3</th>\n      <td>I've come across numerous reviews praising the...</td>\n      <td>NEGATIVE</td>\n    </tr>\n    <tr>\n      <th>4</th>\n      <td>I've been dreaming of owning an SUV for quite ...</td>\n      <td>POSITIVE</td>\n    </tr>\n  </tbody>\n</table>\n</div>"
          },
          "metadata": {},
          "execution_count": 11
        }
      ],
      "execution_count": null
    },
    {
      "source": [
        "df.columns"
      ],
      "metadata": {
        "executionCancelledAt": null,
        "executionTime": 53,
        "lastExecutedAt": 1718429954862,
        "lastExecutedByKernel": "e3ecfa54-e9a9-43ee-b701-d9c07d174616",
        "lastScheduledRunId": null,
        "lastSuccessfullyExecutedCode": "df.columns",
        "id": "60436977-9a2c-4a76-847a-3514c19e9c11",
        "outputId": "44882bf5-a85b-4e4c-f012-5da4aae8633f"
      },
      "cell_type": "code",
      "id": "60436977-9a2c-4a76-847a-3514c19e9c11",
      "outputs": [
        {
          "output_type": "execute_result",
          "data": {
            "text/plain": "Index(['Review', 'Class'], dtype='object')"
          },
          "metadata": {},
          "execution_count": 12
        }
      ],
      "execution_count": null
    },
    {
      "source": [
        "# Split the single column into two columns\n",
        "# df[['Review', 'Sentiment']] = df['Review;Class'].str.split(';', expand=True)"
      ],
      "metadata": {
        "executionCancelledAt": null,
        "executionTime": 47,
        "lastExecutedAt": 1718429954909,
        "lastExecutedByKernel": "e3ecfa54-e9a9-43ee-b701-d9c07d174616",
        "lastScheduledRunId": null,
        "lastSuccessfullyExecutedCode": "# Split the single column into two columns\n# df[['Review', 'Sentiment']] = df['Review;Class'].str.split(';', expand=True)",
        "id": "f711b2b2-3fbe-42cb-8547-5cae618ff2a7"
      },
      "cell_type": "code",
      "id": "f711b2b2-3fbe-42cb-8547-5cae618ff2a7",
      "outputs": [],
      "execution_count": null
    },
    {
      "source": [
        "# Drop the original column and null values\n",
        "# df = df.drop(columns=['Review;Class']).dropna()"
      ],
      "metadata": {
        "executionCancelledAt": null,
        "executionTime": 46,
        "lastExecutedAt": 1718429954957,
        "lastExecutedByKernel": "e3ecfa54-e9a9-43ee-b701-d9c07d174616",
        "lastScheduledRunId": null,
        "lastSuccessfullyExecutedCode": "# Drop the original column and null values\n# df = df.drop(columns=['Review;Class']).dropna()",
        "id": "d1528037-8800-4cd6-a84a-3735670d5632"
      },
      "cell_type": "code",
      "id": "d1528037-8800-4cd6-a84a-3735670d5632",
      "outputs": [],
      "execution_count": null
    },
    {
      "source": [
        "# Map sentiment labels to binary values\n",
        "df['Class'] = df['Class'].map({'POSITIVE': 1, 'NEGATIVE': 0})"
      ],
      "metadata": {
        "executionCancelledAt": null,
        "executionTime": 51,
        "lastExecutedAt": 1718429955009,
        "lastExecutedByKernel": "e3ecfa54-e9a9-43ee-b701-d9c07d174616",
        "lastScheduledRunId": null,
        "lastSuccessfullyExecutedCode": "# Map sentiment labels to binary values\ndf['Class'] = df['Class'].map({'POSITIVE': 1, 'NEGATIVE': 0})",
        "id": "f6567bbc-04b8-45b2-8e80-8af7f3b4bc31"
      },
      "cell_type": "code",
      "id": "f6567bbc-04b8-45b2-8e80-8af7f3b4bc31",
      "outputs": [],
      "execution_count": null
    },
    {
      "source": [
        "# Task 1: Classify car reviews"
      ],
      "metadata": {
        "id": "9f5a60d3-11e8-42f1-9d88-cc3ce5987cce"
      },
      "cell_type": "markdown",
      "id": "9f5a60d3-11e8-42f1-9d88-cc3ce5987cce"
    },
    {
      "source": [
        "from sklearn.model_selection import train_test_split\n",
        "\n",
        "# Split the data into train and test sets\n",
        "X_train, X_test, y_train, y_test = train_test_split(df['Review'], df['Class'], test_size=0.2, random_state=42)"
      ],
      "metadata": {
        "executionCancelledAt": null,
        "executionTime": 51,
        "lastExecutedAt": 1718429955061,
        "lastExecutedByKernel": "e3ecfa54-e9a9-43ee-b701-d9c07d174616",
        "lastScheduledRunId": null,
        "lastSuccessfullyExecutedCode": "from sklearn.model_selection import train_test_split\n\n# Split the data into train and test sets\nX_train, X_test, y_train, y_test = train_test_split(df['Review'], df['Class'], test_size=0.2, random_state=42)",
        "id": "35db47a7-0189-4cea-b719-44efc1c90d08"
      },
      "cell_type": "code",
      "id": "35db47a7-0189-4cea-b719-44efc1c90d08",
      "outputs": [],
      "execution_count": null
    },
    {
      "source": [
        "# Load pre-trained sentiment analysis model\n",
        "model_name = \"distilbert-base-uncased-finetuned-sst-2-english\"\n",
        "model = AutoModelForSequenceClassification.from_pretrained(model_name)\n",
        "tokenizer = AutoTokenizer.from_pretrained(model_name)\n",
        "sentiment_pipeline = pipeline(\"sentiment-analysis\", model=model, tokenizer=tokenizer)"
      ],
      "metadata": {
        "executionCancelledAt": null,
        "executionTime": 1800,
        "lastExecutedAt": 1718429956862,
        "lastExecutedByKernel": "e3ecfa54-e9a9-43ee-b701-d9c07d174616",
        "lastScheduledRunId": null,
        "lastSuccessfullyExecutedCode": "# Load pre-trained sentiment analysis model\nmodel_name = \"distilbert-base-uncased-finetuned-sst-2-english\"\nmodel = AutoModelForSequenceClassification.from_pretrained(model_name)\ntokenizer = AutoTokenizer.from_pretrained(model_name)\nsentiment_pipeline = pipeline(\"sentiment-analysis\", model=model, tokenizer=tokenizer)",
        "outputsMetadata": {
          "0": {
            "height": 80,
            "type": "stream"
          },
          "4": {
            "height": 80,
            "type": "stream"
          }
        },
        "id": "a74ccb44-0cca-4711-94e6-387c74fddf28"
      },
      "cell_type": "code",
      "id": "a74ccb44-0cca-4711-94e6-387c74fddf28",
      "outputs": [],
      "execution_count": null
    },
    {
      "source": [
        "# Classify sentiments\n",
        "review_val = [str(i) for i in df['Review'].values]\n",
        "predicted_labels = sentiment_pipeline(review_val)"
      ],
      "metadata": {
        "executionCancelledAt": null,
        "executionTime": 3401,
        "lastExecutedAt": 1718429960265,
        "lastExecutedByKernel": "e3ecfa54-e9a9-43ee-b701-d9c07d174616",
        "lastScheduledRunId": null,
        "lastSuccessfullyExecutedCode": "# Classify sentiments\nreview_val = [str(i) for i in df['Review'].values]\npredicted_labels = sentiment_pipeline(review_val)",
        "id": "29e48ed4-c7c5-4973-867a-f9a0c5d378b5"
      },
      "cell_type": "code",
      "id": "29e48ed4-c7c5-4973-867a-f9a0c5d378b5",
      "outputs": [],
      "execution_count": null
    },
    {
      "source": [
        "# Map labels to binary values\n",
        "label_map = {'NEGATIVE': 0, 'POSITIVE': 1}\n",
        "predictions = [label_map[label['label']] for label in predicted_labels]"
      ],
      "metadata": {
        "executionCancelledAt": null,
        "executionTime": 47,
        "lastExecutedAt": 1718429960313,
        "lastExecutedByKernel": "e3ecfa54-e9a9-43ee-b701-d9c07d174616",
        "lastScheduledRunId": null,
        "lastSuccessfullyExecutedCode": "# Map labels to binary values\nlabel_map = {'NEGATIVE': 0, 'POSITIVE': 1}\npredictions = [label_map[label['label']] for label in predicted_labels]",
        "id": "911b8a5e-7c71-42ab-9128-f4fb0c952c40"
      },
      "cell_type": "code",
      "id": "911b8a5e-7c71-42ab-9128-f4fb0c952c40",
      "outputs": [],
      "execution_count": null
    },
    {
      "source": [
        "# Calculate metrics\n",
        "accuracy_result = accuracy_score(df['Class'], predictions)\n",
        "f1_result = f1_score(df['Class'], predictions, average='binary')"
      ],
      "metadata": {
        "executionCancelledAt": null,
        "executionTime": 48,
        "lastExecutedAt": 1718429960361,
        "lastExecutedByKernel": "e3ecfa54-e9a9-43ee-b701-d9c07d174616",
        "lastScheduledRunId": null,
        "lastSuccessfullyExecutedCode": "# Calculate metrics\naccuracy_result = accuracy_score(df['Class'], predictions)\nf1_result = f1_score(df['Class'], predictions, average='binary')",
        "id": "3b2e8b95-2cf6-45e3-a8d1-39ae1ebab955"
      },
      "cell_type": "code",
      "id": "3b2e8b95-2cf6-45e3-a8d1-39ae1ebab955",
      "outputs": [],
      "execution_count": null
    },
    {
      "source": [
        "print(f\"Accuracy: {accuracy_result}\")\n",
        "print(f\"F1 Score: {f1_result}\")"
      ],
      "metadata": {
        "executionCancelledAt": null,
        "executionTime": 48,
        "lastExecutedAt": 1718429960410,
        "lastExecutedByKernel": "e3ecfa54-e9a9-43ee-b701-d9c07d174616",
        "lastScheduledRunId": null,
        "lastSuccessfullyExecutedCode": "print(f\"Accuracy: {accuracy_result}\")\nprint(f\"F1 Score: {f1_result}\")",
        "outputsMetadata": {
          "0": {
            "height": 59,
            "type": "stream"
          }
        },
        "id": "0942d386-afa2-4974-9c77-2ebeb6406525",
        "outputId": "c747a5ca-fa93-4440-c1dd-432683901a0b"
      },
      "cell_type": "code",
      "id": "0942d386-afa2-4974-9c77-2ebeb6406525",
      "outputs": [
        {
          "output_type": "stream",
          "name": "stdout",
          "text": "Accuracy: 0.8\nF1 Score: 0.8571428571428571\n"
        }
      ],
      "execution_count": null
    },
    {
      "source": [
        "# Task 2: Translate a car review"
      ],
      "metadata": {
        "id": "b5f9dbc6-d048-45ae-8094-1776f8116378"
      },
      "cell_type": "markdown",
      "id": "b5f9dbc6-d048-45ae-8094-1776f8116378"
    },
    {
      "source": [
        "# Open the file in read mode\n",
        "file_path = 'data/reference_translations.txt'\n",
        "\n",
        "try:\n",
        "    with open(file_path, 'r') as file:\n",
        "        # Read the content of the file\n",
        "        file_content = file.read()\n",
        "\n",
        "        # Print the content\n",
        "        print(\"File Content:\\n\", file_content)\n",
        "\n",
        "except FileNotFoundError:\n",
        "    print(f\"File '{file_path}' not found.\")\n",
        "except Exception as e:\n",
        "    print(f\"An error occurred: {e}\")"
      ],
      "metadata": {
        "executionCancelledAt": null,
        "executionTime": 112,
        "lastExecutedAt": 1718429960522,
        "lastExecutedByKernel": "e3ecfa54-e9a9-43ee-b701-d9c07d174616",
        "lastScheduledRunId": null,
        "lastSuccessfullyExecutedCode": "# Open the file in read mode\nfile_path = 'data/reference_translations.txt'\n \ntry:\n    with open(file_path, 'r') as file:\n        # Read the content of the file\n        file_content = file.read()\n         \n        # Print the content\n        print(\"File Content:\\n\", file_content)\n \nexcept FileNotFoundError:\n    print(f\"File '{file_path}' not found.\")\nexcept Exception as e:\n    print(f\"An error occurred: {e}\")",
        "outputsMetadata": {
          "0": {
            "height": 101,
            "type": "stream"
          }
        },
        "id": "a5d14e82-d158-4323-9245-267c6e429de1",
        "outputId": "237142a8-17d8-4a74-c5a1-a50eb0adc1b1"
      },
      "cell_type": "code",
      "id": "a5d14e82-d158-4323-9245-267c6e429de1",
      "outputs": [
        {
          "output_type": "stream",
          "name": "stdout",
          "text": "File Content:\n Estoy muy satisfecho con mi Nissan NV SL 2014. Utilizo esta camioneta para mis entregas comerciales y uso personal.\nEstoy muy satisfecho con mi Nissan NV SL 2014. Uso esta furgoneta para mis entregas comerciales y uso personal.\n"
        }
      ],
      "execution_count": null
    },
    {
      "source": [
        "!pip install sacrebleu"
      ],
      "metadata": {
        "executionCancelledAt": null,
        "executionTime": 5773,
        "lastExecutedAt": 1718429966295,
        "lastExecutedByKernel": "e3ecfa54-e9a9-43ee-b701-d9c07d174616",
        "lastScheduledRunId": null,
        "lastSuccessfullyExecutedCode": "!pip install sacrebleu",
        "outputsMetadata": {
          "0": {
            "height": 563,
            "type": "stream"
          }
        },
        "id": "2cf003fc-db6a-41c8-9737-da6732fcdda7",
        "outputId": "dd1b5d3c-e4c1-439d-adb1-d1793aaa3a59"
      },
      "cell_type": "code",
      "id": "2cf003fc-db6a-41c8-9737-da6732fcdda7",
      "outputs": [
        {
          "output_type": "stream",
          "name": "stdout",
          "text": "Defaulting to user installation because normal site-packages is not writeable\nRequirement already satisfied: sacrebleu in /home/repl/.local/lib/python3.8/site-packages (2.4.2)\nRequirement already satisfied: portalocker in /home/repl/.local/lib/python3.8/site-packages (from sacrebleu) (2.8.2)\nRequirement already satisfied: regex in /usr/local/lib/python3.8/dist-packages (from sacrebleu) (2022.8.17)\nRequirement already satisfied: tabulate>=0.8.9 in /usr/local/lib/python3.8/dist-packages (from sacrebleu) (0.8.10)\nRequirement already satisfied: numpy>=1.17 in /usr/local/lib/python3.8/dist-packages (from sacrebleu) (1.23.2)\nRequirement already satisfied: colorama in /usr/local/lib/python3.8/dist-packages (from sacrebleu) (0.4.4)\nRequirement already satisfied: lxml in /usr/local/lib/python3.8/dist-packages (from sacrebleu) (4.9.1)\n"
        }
      ],
      "execution_count": null
    },
    {
      "source": [
        "from transformers import MarianMTModel, MarianTokenizer\n",
        "from sacrebleu.metrics import BLEU"
      ],
      "metadata": {
        "executionCancelledAt": null,
        "executionTime": 104,
        "lastExecutedAt": 1718429966400,
        "lastExecutedByKernel": "e3ecfa54-e9a9-43ee-b701-d9c07d174616",
        "lastScheduledRunId": null,
        "lastSuccessfullyExecutedCode": "from transformers import MarianMTModel, MarianTokenizer\nfrom sacrebleu.metrics import BLEU",
        "id": "0a2c82f7-4f3e-45d0-b483-0cff45bccc9d"
      },
      "cell_type": "code",
      "id": "0a2c82f7-4f3e-45d0-b483-0cff45bccc9d",
      "outputs": [],
      "execution_count": null
    },
    {
      "source": [
        "# Extract first two sentences of the first review\n",
        "first_two_sentences = '. '.join(df['Review'].iloc[0].split('.')[:2]) + '.'"
      ],
      "metadata": {
        "executionCancelledAt": null,
        "executionTime": 52,
        "lastExecutedAt": 1718429966453,
        "lastExecutedByKernel": "e3ecfa54-e9a9-43ee-b701-d9c07d174616",
        "lastScheduledRunId": null,
        "lastSuccessfullyExecutedCode": "# Extract first two sentences of the first review\nfirst_two_sentences = '. '.join(df['Review'].iloc[0].split('.')[:2]) + '.'",
        "id": "2c2f4256-6f2c-474e-890d-8a433eb647e1"
      },
      "cell_type": "code",
      "id": "2c2f4256-6f2c-474e-890d-8a433eb647e1",
      "outputs": [],
      "execution_count": null
    },
    {
      "source": [
        "print(first_two_sentences)"
      ],
      "metadata": {
        "executionCancelledAt": null,
        "executionTime": 52,
        "lastExecutedAt": 1718429966506,
        "lastExecutedByKernel": "e3ecfa54-e9a9-43ee-b701-d9c07d174616",
        "lastScheduledRunId": null,
        "lastSuccessfullyExecutedCode": "print(first_two_sentences)",
        "outputsMetadata": {
          "0": {
            "height": 38,
            "type": "stream"
          }
        },
        "id": "1d70b15a-f9b2-4463-8878-4957002fc153",
        "outputId": "c8e3f4c5-7379-46f9-ad82-12b4f9ab02c3"
      },
      "cell_type": "code",
      "id": "1d70b15a-f9b2-4463-8878-4957002fc153",
      "outputs": [
        {
          "output_type": "stream",
          "name": "stdout",
          "text": "I am very satisfied with my 2014 Nissan NV SL.  I use this van for my business deliveries and personal use.\n"
        }
      ],
      "execution_count": null
    },
    {
      "source": [
        "# Load English to Spanish translation model\n",
        "model_name = \"Helsinki-NLP/opus-mt-en-es\"\n",
        "translator = pipeline(\"translation\", model=model_name)"
      ],
      "metadata": {
        "executionCancelledAt": null,
        "executionTime": 3647,
        "lastExecutedAt": 1718429970153,
        "lastExecutedByKernel": "e3ecfa54-e9a9-43ee-b701-d9c07d174616",
        "lastScheduledRunId": null,
        "lastSuccessfullyExecutedCode": "# Load English to Spanish translation model\nmodel_name = \"Helsinki-NLP/opus-mt-en-es\"\ntranslator = pipeline(\"translation\", model=model_name)",
        "id": "9061ca05-b385-44f9-bc40-7a75aeccb791"
      },
      "cell_type": "code",
      "id": "9061ca05-b385-44f9-bc40-7a75aeccb791",
      "outputs": [],
      "execution_count": null
    },
    {
      "source": [
        "# Translate the text\n",
        "translated_review = translator(first_two_sentences, max_length=512)[0]['translation_text']"
      ],
      "metadata": {
        "executionCancelledAt": null,
        "executionTime": 3260,
        "lastExecutedAt": 1718429973414,
        "lastExecutedByKernel": "e3ecfa54-e9a9-43ee-b701-d9c07d174616",
        "lastScheduledRunId": null,
        "lastSuccessfullyExecutedCode": "# Translate the text\ntranslated_review = translator(first_two_sentences, max_length=512)[0]['translation_text']",
        "id": "dac8917f-a67a-4c81-bf4e-0860b4c62907"
      },
      "cell_type": "code",
      "id": "dac8917f-a67a-4c81-bf4e-0860b4c62907",
      "outputs": [],
      "execution_count": null
    },
    {
      "source": [
        "# Load reference translations\n",
        "with open('data/reference_translations.txt', 'r', encoding='utf-8') as f:\n",
        "    reference_translations = [line.strip() for line in f.readlines()]"
      ],
      "metadata": {
        "executionCancelledAt": null,
        "executionTime": 49,
        "lastExecutedAt": 1718429973465,
        "lastExecutedByKernel": "e3ecfa54-e9a9-43ee-b701-d9c07d174616",
        "lastScheduledRunId": null,
        "lastSuccessfullyExecutedCode": "# Load reference translations\nwith open('data/reference_translations.txt', 'r', encoding='utf-8') as f:\n    reference_translations = [line.strip() for line in f.readlines()]",
        "id": "0476aea3-5924-4a58-a343-1f30db5f0b2c"
      },
      "cell_type": "code",
      "id": "0476aea3-5924-4a58-a343-1f30db5f0b2c",
      "outputs": [],
      "execution_count": null
    },
    {
      "source": [
        "# Calculate BLEU score\n",
        "bleu = BLEU()\n",
        "bleu_score = bleu.corpus_score([translated_review], [reference_translations]).score"
      ],
      "metadata": {
        "executionCancelledAt": null,
        "executionTime": 48,
        "lastExecutedAt": 1718429973513,
        "lastExecutedByKernel": "e3ecfa54-e9a9-43ee-b701-d9c07d174616",
        "lastScheduledRunId": null,
        "lastSuccessfullyExecutedCode": "# Calculate BLEU score\nbleu = BLEU()\nbleu_score = bleu.corpus_score([translated_review], [reference_translations]).score",
        "id": "22738983-4e79-49d0-930f-e2c1bb4c7bb8"
      },
      "cell_type": "code",
      "id": "22738983-4e79-49d0-930f-e2c1bb4c7bb8",
      "outputs": [],
      "execution_count": null
    },
    {
      "source": [
        "print(f\"Translated Review: {translated_review}\")\n",
        "print(f\"BLEU Score: {bleu_score}\")"
      ],
      "metadata": {
        "executionCancelledAt": null,
        "executionTime": 48,
        "lastExecutedAt": 1718429973562,
        "lastExecutedByKernel": "e3ecfa54-e9a9-43ee-b701-d9c07d174616",
        "lastScheduledRunId": null,
        "lastSuccessfullyExecutedCode": "print(f\"Translated Review: {translated_review}\")\nprint(f\"BLEU Score: {bleu_score}\")",
        "outputsMetadata": {
          "0": {
            "height": 80,
            "type": "stream"
          }
        },
        "id": "40f4bcb2-0721-4972-8120-d29688f8a3a9",
        "outputId": "148194b2-05ac-4e09-a126-ae4ef537f416"
      },
      "cell_type": "code",
      "id": "40f4bcb2-0721-4972-8120-d29688f8a3a9",
      "outputs": [
        {
          "output_type": "stream",
          "name": "stdout",
          "text": "Translated Review: Estoy muy satisfecho con mi Nissan NV SL 2014. Uso esta camioneta para mis entregas de negocios y uso personal.\nBLEU Score: 68.88074582865497\n"
        }
      ],
      "execution_count": null
    },
    {
      "source": [
        "# Task 3: Question Answering"
      ],
      "metadata": {
        "id": "04c24d0a-61cf-4dfd-994b-d965ef3d2b62"
      },
      "cell_type": "markdown",
      "id": "04c24d0a-61cf-4dfd-994b-d965ef3d2b62"
    },
    {
      "source": [
        "# Perform question answering\n",
        "#Prepare question and context\n",
        "question = \"What did he like about the brand?\"\n",
        "context = df['Review'].iloc[1]  # Using the second review as context"
      ],
      "metadata": {
        "executionCancelledAt": null,
        "executionTime": 47,
        "lastExecutedAt": 1718429973609,
        "lastExecutedByKernel": "e3ecfa54-e9a9-43ee-b701-d9c07d174616",
        "lastScheduledRunId": null,
        "lastSuccessfullyExecutedCode": "# Perform question answering\n#Prepare question and context\nquestion = \"What did he like about the brand?\"\ncontext = df['Review'].iloc[1]  # Using the second review as context",
        "id": "cf402f01-38d6-40d0-a7f7-c9cd773ba027"
      },
      "cell_type": "code",
      "id": "cf402f01-38d6-40d0-a7f7-c9cd773ba027",
      "outputs": [],
      "execution_count": null
    },
    {
      "source": [
        "# Load QA model\n",
        "model_name = \"deepset/minilm-uncased-squad2\"\n",
        "qa_pipeline = pipeline(\"question-answering\", model=model_name)"
      ],
      "metadata": {
        "executionCancelledAt": null,
        "executionTime": 961,
        "lastExecutedAt": 1718429974570,
        "lastExecutedByKernel": "e3ecfa54-e9a9-43ee-b701-d9c07d174616",
        "lastScheduledRunId": null,
        "lastSuccessfullyExecutedCode": "# Load QA model\nmodel_name = \"deepset/minilm-uncased-squad2\"\nqa_pipeline = pipeline(\"question-answering\", model=model_name)",
        "id": "53041561-e53e-4828-a0a0-ba35d5ff00cd"
      },
      "cell_type": "code",
      "id": "53041561-e53e-4828-a0a0-ba35d5ff00cd",
      "outputs": [],
      "execution_count": null
    },
    {
      "source": [
        "# Get the answer\n",
        "result = qa_pipeline(question=question, context=context)\n",
        "answer = result['answer']"
      ],
      "metadata": {
        "executionCancelledAt": null,
        "executionTime": 437,
        "lastExecutedAt": 1718429975008,
        "lastExecutedByKernel": "e3ecfa54-e9a9-43ee-b701-d9c07d174616",
        "lastScheduledRunId": null,
        "lastSuccessfullyExecutedCode": "# Get the answer\nresult = qa_pipeline(question=question, context=context)\nanswer = result['answer']",
        "id": "0babdd79-24a5-4751-838c-94ba86cf4a89"
      },
      "cell_type": "code",
      "id": "0babdd79-24a5-4751-838c-94ba86cf4a89",
      "outputs": [],
      "execution_count": null
    },
    {
      "source": [
        "print(f\"Context: {context}\")\n",
        "print(f\"Question: {question}\")\n",
        "print(f\"Answer: {answer}\")"
      ],
      "metadata": {
        "executionCancelledAt": null,
        "executionTime": 44,
        "lastExecutedAt": 1718429975053,
        "lastExecutedByKernel": "e3ecfa54-e9a9-43ee-b701-d9c07d174616",
        "lastScheduledRunId": null,
        "lastSuccessfullyExecutedCode": "print(f\"Context: {context}\")\nprint(f\"Question: {question}\")\nprint(f\"Answer: {answer}\")",
        "outputsMetadata": {
          "0": {
            "height": 206,
            "type": "stream"
          }
        },
        "id": "ac885600-a8c0-4b57-aff2-a62a4c0e5a41",
        "outputId": "f1998eaa-5771-4aa9-e987-82724d3a46d7"
      },
      "cell_type": "code",
      "id": "ac885600-a8c0-4b57-aff2-a62a4c0e5a41",
      "outputs": [
        {
          "output_type": "stream",
          "name": "stdout",
          "text": "Context: The car is fine. It's a bit loud and not very powerful. On one hand, compared to its peers, the interior is well-built. The transmission failed a few years ago, and the dealer replaced it under warranty with no issues. Now, about 60k miles later, the transmission is failing again. It sounds like a truck, and the issues are well-documented. The dealer tells me it is normal, refusing to do anything to resolve the issue. After owning the car for 4 years, there are many other vehicles I would purchase over this one. Initially, I really liked what the brand is about: ride quality, reliability, etc. But I will not purchase another one. Despite these concerns, I must say, the level of comfort in the car has always been satisfactory, but not worth the rest of issues found.\nQuestion: What did he like about the brand?\nAnswer: ride quality, reliability\n"
        }
      ],
      "execution_count": null
    },
    {
      "source": [
        "# Task 4: Text Summarization and Toxicity Analysis"
      ],
      "metadata": {
        "id": "a493c186-19ba-432a-986f-f0fdea1e4147"
      },
      "cell_type": "markdown",
      "id": "a493c186-19ba-432a-986f-f0fdea1e4147"
    },
    {
      "source": [
        "## Summarize and analyze a car review"
      ],
      "metadata": {
        "id": "36806f6e-6b68-4306-9f66-a9099760ac9e"
      },
      "cell_type": "markdown",
      "id": "36806f6e-6b68-4306-9f66-a9099760ac9e"
    },
    {
      "source": [
        "# Summarize the last review\n",
        "last_review = df['Review'].iloc[-1]"
      ],
      "metadata": {
        "executionCancelledAt": null,
        "executionTime": 47,
        "lastExecutedAt": 1718430306198,
        "lastExecutedByKernel": "8854da9d-c6b3-4cc7-8543-047b759181cd",
        "lastScheduledRunId": null,
        "lastSuccessfullyExecutedCode": "# Summarize the last review\nlast_review = df['Review'].iloc[-1]",
        "id": "1f07af62-2b6e-48ce-91cb-be8c8ede230e"
      },
      "cell_type": "code",
      "id": "1f07af62-2b6e-48ce-91cb-be8c8ede230e",
      "outputs": [],
      "execution_count": null
    },
    {
      "source": [
        "from transformers import pipeline\n",
        "\n",
        "# Load summarization model\n",
        "# model_name = 'facebook/bart-large-cnn'\n",
        "# summarizer = pipeline(\"summarization\", model=model_name)\n",
        "summarizer = pipeline(\"summarization\")\n",
        "summary = summarizer(last_review, max_length=55, min_length=50, do_sample=False)\n",
        "summarized_text = summary[0]['summary_text']"
      ],
      "metadata": {
        "executionCancelledAt": null,
        "executionTime": 36975,
        "lastExecutedAt": 1718430349852,
        "lastExecutedByKernel": "8854da9d-c6b3-4cc7-8543-047b759181cd",
        "lastScheduledRunId": null,
        "lastSuccessfullyExecutedCode": "from transformers import pipeline\n\n# Load summarization model\n# model_name = 'facebook/bart-large-cnn'\n# summarizer = pipeline(\"summarization\", model=model_name)\nsummarizer = pipeline(\"summarization\")\nsummary = summarizer(last_review, max_length=55, min_length=50, do_sample=False)\nsummarized_text = summary[0]['summary_text']",
        "outputsMetadata": {
          "0": {
            "height": 80,
            "type": "stream"
          },
          "5": {
            "height": 185,
            "type": "stream"
          }
        },
        "id": "968aee33-553f-4665-978b-98faf791f406",
        "outputId": "ba3c17bc-db36-481d-8822-fcbebb9441fd",
        "colab": {
          "referenced_widgets": [
            "5acb068b2ba945db92f2477b19eb0d61",
            "53761b1156bf4fd0a45e446da7b77fed",
            "d973429091584b24a85952412f381bb5",
            "0e1cdb1d9c2d4af0a80d003990059abf",
            "c945fac319484a0f877383a0f032ed6d"
          ]
        }
      },
      "cell_type": "code",
      "id": "968aee33-553f-4665-978b-98faf791f406",
      "outputs": [
        {
          "output_type": "stream",
          "name": "stderr",
          "text": "No model was supplied, defaulted to sshleifer/distilbart-cnn-12-6 and revision a4f8f3e (https://huggingface.co/sshleifer/distilbart-cnn-12-6).\nUsing a pipeline without specifying a model name and revision in production is not recommended.\n"
        },
        {
          "output_type": "display_data",
          "data": {
            "text/plain": "Downloading:   0%|          | 0.00/1.80k [00:00<?, ?B/s]",
            "application/vnd.jupyter.widget-view+json": {
              "version_major": 2,
              "version_minor": 0,
              "model_id": "5acb068b2ba945db92f2477b19eb0d61"
            },
            "application/json": {
              "n": 0,
              "total": 1802,
              "elapsed": 0.007714271545410156,
              "ncols": null,
              "nrows": null,
              "prefix": "Downloading",
              "ascii": false,
              "unit": "B",
              "unit_scale": true,
              "rate": null,
              "bar_format": null,
              "postfix": null,
              "unit_divisor": 1000,
              "initial": 0,
              "colour": null
            }
          },
          "metadata": {}
        },
        {
          "output_type": "display_data",
          "data": {
            "text/plain": "Downloading:   0%|          | 0.00/1.22G [00:00<?, ?B/s]",
            "application/vnd.jupyter.widget-view+json": {
              "version_major": 2,
              "version_minor": 0,
              "model_id": "53761b1156bf4fd0a45e446da7b77fed"
            },
            "application/json": {
              "n": 0,
              "total": 1222317369,
              "elapsed": 0.006841182708740234,
              "ncols": null,
              "nrows": null,
              "prefix": "Downloading",
              "ascii": false,
              "unit": "B",
              "unit_scale": true,
              "rate": null,
              "bar_format": null,
              "postfix": null,
              "unit_divisor": 1000,
              "initial": 0,
              "colour": null
            }
          },
          "metadata": {}
        },
        {
          "output_type": "display_data",
          "data": {
            "text/plain": "Downloading:   0%|          | 0.00/26.0 [00:00<?, ?B/s]",
            "application/vnd.jupyter.widget-view+json": {
              "version_major": 2,
              "version_minor": 0,
              "model_id": "d973429091584b24a85952412f381bb5"
            },
            "application/json": {
              "n": 0,
              "total": 26,
              "elapsed": 0.00648808479309082,
              "ncols": null,
              "nrows": null,
              "prefix": "Downloading",
              "ascii": false,
              "unit": "B",
              "unit_scale": true,
              "rate": null,
              "bar_format": null,
              "postfix": null,
              "unit_divisor": 1000,
              "initial": 0,
              "colour": null
            }
          },
          "metadata": {}
        },
        {
          "output_type": "display_data",
          "data": {
            "text/plain": "Downloading:   0%|          | 0.00/899k [00:00<?, ?B/s]",
            "application/vnd.jupyter.widget-view+json": {
              "version_major": 2,
              "version_minor": 0,
              "model_id": "0e1cdb1d9c2d4af0a80d003990059abf"
            },
            "application/json": {
              "n": 0,
              "total": 898822,
              "elapsed": 0.006624698638916016,
              "ncols": null,
              "nrows": null,
              "prefix": "Downloading",
              "ascii": false,
              "unit": "B",
              "unit_scale": true,
              "rate": null,
              "bar_format": null,
              "postfix": null,
              "unit_divisor": 1000,
              "initial": 0,
              "colour": null
            }
          },
          "metadata": {}
        },
        {
          "output_type": "display_data",
          "data": {
            "text/plain": "Downloading:   0%|          | 0.00/456k [00:00<?, ?B/s]",
            "application/vnd.jupyter.widget-view+json": {
              "version_major": 2,
              "version_minor": 0,
              "model_id": "c945fac319484a0f877383a0f032ed6d"
            },
            "application/json": {
              "n": 0,
              "total": 456318,
              "elapsed": 0.006873607635498047,
              "ncols": null,
              "nrows": null,
              "prefix": "Downloading",
              "ascii": false,
              "unit": "B",
              "unit_scale": true,
              "rate": null,
              "bar_format": null,
              "postfix": null,
              "unit_divisor": 1000,
              "initial": 0,
              "colour": null
            }
          },
          "metadata": {}
        }
      ],
      "execution_count": null
    },
    {
      "source": [
        "print(f\"Original review: {last_review}\")\n",
        "print(f\"Summary: {summarized_text}\")"
      ],
      "metadata": {
        "executionCancelledAt": null,
        "executionTime": 12,
        "lastExecutedAt": 1718430365583,
        "lastExecutedByKernel": "8854da9d-c6b3-4cc7-8543-047b759181cd",
        "lastScheduledRunId": null,
        "lastSuccessfullyExecutedCode": "print(f\"Original review: {last_review}\")\nprint(f\"Summary: {summarized_text}\")",
        "outputsMetadata": {
          "0": {
            "height": 290,
            "type": "stream"
          }
        },
        "id": "61a10fbe-3031-47f7-9eec-9fb08f157f40",
        "outputId": "4ccfadff-6ac3-47e4-ec6c-d912ba56fa5e"
      },
      "cell_type": "code",
      "id": "61a10fbe-3031-47f7-9eec-9fb08f157f40",
      "outputs": [
        {
          "output_type": "stream",
          "name": "stdout",
          "text": "Original review: I've been dreaming of owning an SUV for quite a while, but I've been driving cars that were already paid for during an extended period. I ultimately made the decision to transition to a brand-new car, which, of course, involved taking on new payments. However, given that I don't drive extensively, I was inclined to avoid a substantial financial commitment. The Nissan Rogue provides me with the desired SUV experience without burdening me with an exorbitant payment; the financial arrangement is quite reasonable. Handling and styling are great; I have hauled 12 bags of mulch in the back with the seats down and could have held more. I am VERY satisfied overall. I find myself needing to exercise extra caution when making lane changes, particularly owing to the blind spots resulting from the small side windows situated towards the rear of the vehicle. To address this concern, I am actively engaged in making adjustments to my mirrors and consciously reducing the frequency of lane changes. The engine delivers strong performance, and the ride is really smooth.\nSummary:  Nissan Rogue provides the desired SUV experience without burdening me with an exorbitant payment . Handling and styling are great; I have hauled 12 bags of mulch in the back with the seats down and could have held more . The engine delivers strong performance, and\n"
        }
      ],
      "execution_count": null
    },
    {
      "source": [
        "### Analyze toxicity and potential biases of the summary"
      ],
      "metadata": {
        "id": "73203eee-2863-476b-9518-1ec658911dfa"
      },
      "cell_type": "markdown",
      "id": "73203eee-2863-476b-9518-1ec658911dfa"
    },
    {
      "source": [
        "from evaluate import load\n",
        "\n",
        "# Load toxicity metric\n",
        "toxicity_metric = load(\"toxicity\")\n",
        "toxicity_scores = toxicity_metric.compute(predictions=[summarized_text])\n",
        "max_toxicity = max(toxicity_scores['toxicity'])"
      ],
      "metadata": {
        "executionCancelledAt": null,
        "executionTime": 15105,
        "lastExecutedAt": 1718430392721,
        "lastExecutedByKernel": "8854da9d-c6b3-4cc7-8543-047b759181cd",
        "lastScheduledRunId": null,
        "lastSuccessfullyExecutedCode": "from evaluate import load\n\n# Load toxicity metric\ntoxicity_metric = load(\"toxicity\")\ntoxicity_scores = toxicity_metric.compute(predictions=[summarized_text])\nmax_toxicity = max(toxicity_scores['toxicity'])",
        "id": "a3b91893-b056-4f32-8e5f-f1e8c072ba3e",
        "outputId": "d92d9cae-5d22-41a9-f35a-c5b62b527adc",
        "colab": {
          "referenced_widgets": [
            "455cc6f2eab244fda5f738adfeef7a1a",
            "f10e2ddb31fe4ab9bb3ca4d1fc6aee2f",
            "3334586cd3ac4137944bace842b9d442",
            "d466aef1ff954b5f90981f7ed00ba00c",
            "b17dabdbcbd84f82a9c253bf3473529b",
            "3c762ace19cc4ab2b404ef6cc30f78f2",
            "c7cde3f27b5d435d97381d2b6ead0160"
          ]
        }
      },
      "cell_type": "code",
      "id": "a3b91893-b056-4f32-8e5f-f1e8c072ba3e",
      "outputs": [
        {
          "output_type": "display_data",
          "data": {
            "text/plain": "Downloading builder script:   0%|          | 0.00/6.08k [00:00<?, ?B/s]",
            "application/vnd.jupyter.widget-view+json": {
              "version_major": 2,
              "version_minor": 0,
              "model_id": "455cc6f2eab244fda5f738adfeef7a1a"
            },
            "application/json": {
              "n": 0,
              "total": 6077,
              "elapsed": 0.006636142730712891,
              "ncols": null,
              "nrows": null,
              "prefix": "Downloading builder script",
              "ascii": false,
              "unit": "B",
              "unit_scale": true,
              "rate": null,
              "bar_format": null,
              "postfix": null,
              "unit_divisor": 1000,
              "initial": 0,
              "colour": null
            }
          },
          "metadata": {}
        },
        {
          "output_type": "display_data",
          "data": {
            "text/plain": "Downloading:   0%|          | 0.00/816 [00:00<?, ?B/s]",
            "application/vnd.jupyter.widget-view+json": {
              "version_major": 2,
              "version_minor": 0,
              "model_id": "f10e2ddb31fe4ab9bb3ca4d1fc6aee2f"
            },
            "application/json": {
              "n": 0,
              "total": 816,
              "elapsed": 0.007163524627685547,
              "ncols": null,
              "nrows": null,
              "prefix": "Downloading",
              "ascii": false,
              "unit": "B",
              "unit_scale": true,
              "rate": null,
              "bar_format": null,
              "postfix": null,
              "unit_divisor": 1000,
              "initial": 0,
              "colour": null
            }
          },
          "metadata": {}
        },
        {
          "output_type": "display_data",
          "data": {
            "text/plain": "Downloading:   0%|          | 0.00/499M [00:00<?, ?B/s]",
            "application/vnd.jupyter.widget-view+json": {
              "version_major": 2,
              "version_minor": 0,
              "model_id": "3334586cd3ac4137944bace842b9d442"
            },
            "application/json": {
              "n": 0,
              "total": 498657517,
              "elapsed": 0.006885528564453125,
              "ncols": null,
              "nrows": null,
              "prefix": "Downloading",
              "ascii": false,
              "unit": "B",
              "unit_scale": true,
              "rate": null,
              "bar_format": null,
              "postfix": null,
              "unit_divisor": 1000,
              "initial": 0,
              "colour": null
            }
          },
          "metadata": {}
        },
        {
          "output_type": "display_data",
          "data": {
            "text/plain": "Downloading:   0%|          | 0.00/1.11k [00:00<?, ?B/s]",
            "application/vnd.jupyter.widget-view+json": {
              "version_major": 2,
              "version_minor": 0,
              "model_id": "d466aef1ff954b5f90981f7ed00ba00c"
            },
            "application/json": {
              "n": 0,
              "total": 1106,
              "elapsed": 0.00694727897644043,
              "ncols": null,
              "nrows": null,
              "prefix": "Downloading",
              "ascii": false,
              "unit": "B",
              "unit_scale": true,
              "rate": null,
              "bar_format": null,
              "postfix": null,
              "unit_divisor": 1000,
              "initial": 0,
              "colour": null
            }
          },
          "metadata": {}
        },
        {
          "output_type": "display_data",
          "data": {
            "text/plain": "Downloading:   0%|          | 0.00/899k [00:00<?, ?B/s]",
            "application/vnd.jupyter.widget-view+json": {
              "version_major": 2,
              "version_minor": 0,
              "model_id": "b17dabdbcbd84f82a9c253bf3473529b"
            },
            "application/json": {
              "n": 0,
              "total": 898822,
              "elapsed": 0.006535768508911133,
              "ncols": null,
              "nrows": null,
              "prefix": "Downloading",
              "ascii": false,
              "unit": "B",
              "unit_scale": true,
              "rate": null,
              "bar_format": null,
              "postfix": null,
              "unit_divisor": 1000,
              "initial": 0,
              "colour": null
            }
          },
          "metadata": {}
        },
        {
          "output_type": "display_data",
          "data": {
            "text/plain": "Downloading:   0%|          | 0.00/456k [00:00<?, ?B/s]",
            "application/vnd.jupyter.widget-view+json": {
              "version_major": 2,
              "version_minor": 0,
              "model_id": "3c762ace19cc4ab2b404ef6cc30f78f2"
            },
            "application/json": {
              "n": 0,
              "total": 456318,
              "elapsed": 0.0062868595123291016,
              "ncols": null,
              "nrows": null,
              "prefix": "Downloading",
              "ascii": false,
              "unit": "B",
              "unit_scale": true,
              "rate": null,
              "bar_format": null,
              "postfix": null,
              "unit_divisor": 1000,
              "initial": 0,
              "colour": null
            }
          },
          "metadata": {}
        },
        {
          "output_type": "display_data",
          "data": {
            "text/plain": "Downloading:   0%|          | 0.00/239 [00:00<?, ?B/s]",
            "application/vnd.jupyter.widget-view+json": {
              "version_major": 2,
              "version_minor": 0,
              "model_id": "c7cde3f27b5d435d97381d2b6ead0160"
            },
            "application/json": {
              "n": 0,
              "total": 239,
              "elapsed": 0.006388664245605469,
              "ncols": null,
              "nrows": null,
              "prefix": "Downloading",
              "ascii": false,
              "unit": "B",
              "unit_scale": true,
              "rate": null,
              "bar_format": null,
              "postfix": null,
              "unit_divisor": 1000,
              "initial": 0,
              "colour": null
            }
          },
          "metadata": {}
        },
        {
          "output_type": "stream",
          "name": "stderr",
          "text": "Xformers is not installed correctly. If you want to use memorry_efficient_attention to accelerate training use the following command to install Xformers\npip install xformers.\n"
        }
      ],
      "execution_count": null
    },
    {
      "source": [
        "print(f\"Maximum Toxicity: {max_toxicity}\")"
      ],
      "metadata": {
        "executionCancelledAt": null,
        "executionTime": 49,
        "lastExecutedAt": 1718430411775,
        "lastExecutedByKernel": "8854da9d-c6b3-4cc7-8543-047b759181cd",
        "lastScheduledRunId": null,
        "lastSuccessfullyExecutedCode": "print(f\"Maximum Toxicity: {max_toxicity}\")",
        "outputsMetadata": {
          "0": {
            "height": 38,
            "type": "stream"
          }
        },
        "id": "11cde66c-de0f-41c3-8d3e-e0740db2b4e8",
        "outputId": "09a206ad-598a-4ee0-de09-d8ab6aa6faf3"
      },
      "cell_type": "code",
      "id": "11cde66c-de0f-41c3-8d3e-e0740db2b4e8",
      "outputs": [
        {
          "output_type": "stream",
          "name": "stdout",
          "text": "Maximum Toxicity: 0.00013859820319339633\n"
        }
      ],
      "execution_count": null
    },
    {
      "source": [
        "# Load regard metric\n",
        "\n",
        "from evaluate import load\n",
        "\n",
        "regard_metric = load(\"regard\")\n",
        "regard_scores = regard_metric.compute(data=[summarized_text])"
      ],
      "metadata": {
        "executionCancelledAt": null,
        "executionTime": 8449,
        "lastExecutedAt": 1718430443126,
        "lastExecutedByKernel": "8854da9d-c6b3-4cc7-8543-047b759181cd",
        "lastScheduledRunId": null,
        "lastSuccessfullyExecutedCode": "# Load regard metric\n\nfrom evaluate import load\n\nregard_metric = load(\"regard\")\nregard_scores = regard_metric.compute(data=[summarized_text])",
        "id": "a8fb6e55-681b-423c-94ae-ef0c1e45ff59",
        "outputId": "89e151ae-f135-4af9-84ad-fac973b8c834",
        "colab": {
          "referenced_widgets": [
            "5839cbea6eac42e389765a9a1c420711",
            "de3300f75ff1441b9e670dc64336027d",
            "02fb481bda56425ca20691c848f035d5",
            "841cb59ea7ba4fdaaff68e3b17c13940",
            "47cd5fa4bfd842d59c789e3f1dfca1ac",
            "0184e9b25e384fef874a28071c17d07b"
          ]
        }
      },
      "cell_type": "code",
      "id": "a8fb6e55-681b-423c-94ae-ef0c1e45ff59",
      "outputs": [
        {
          "output_type": "display_data",
          "data": {
            "text/plain": "Downloading builder script:   0%|          | 0.00/8.41k [00:00<?, ?B/s]",
            "application/vnd.jupyter.widget-view+json": {
              "version_major": 2,
              "version_minor": 0,
              "model_id": "5839cbea6eac42e389765a9a1c420711"
            },
            "application/json": {
              "n": 0,
              "total": 8406,
              "elapsed": 0.006715297698974609,
              "ncols": null,
              "nrows": null,
              "prefix": "Downloading builder script",
              "ascii": false,
              "unit": "B",
              "unit_scale": true,
              "rate": null,
              "bar_format": null,
              "postfix": null,
              "unit_divisor": 1000,
              "initial": 0,
              "colour": null
            }
          },
          "metadata": {}
        },
        {
          "output_type": "display_data",
          "data": {
            "text/plain": "Downloading:   0%|          | 0.00/48.0 [00:00<?, ?B/s]",
            "application/vnd.jupyter.widget-view+json": {
              "version_major": 2,
              "version_minor": 0,
              "model_id": "de3300f75ff1441b9e670dc64336027d"
            },
            "application/json": {
              "n": 0,
              "total": 48,
              "elapsed": 0.006560325622558594,
              "ncols": null,
              "nrows": null,
              "prefix": "Downloading",
              "ascii": false,
              "unit": "B",
              "unit_scale": true,
              "rate": null,
              "bar_format": null,
              "postfix": null,
              "unit_divisor": 1000,
              "initial": 0,
              "colour": null
            }
          },
          "metadata": {}
        },
        {
          "output_type": "display_data",
          "data": {
            "text/plain": "Downloading:   0%|          | 0.00/681 [00:00<?, ?B/s]",
            "application/vnd.jupyter.widget-view+json": {
              "version_major": 2,
              "version_minor": 0,
              "model_id": "02fb481bda56425ca20691c848f035d5"
            },
            "application/json": {
              "n": 0,
              "total": 681,
              "elapsed": 0.00651240348815918,
              "ncols": null,
              "nrows": null,
              "prefix": "Downloading",
              "ascii": false,
              "unit": "B",
              "unit_scale": true,
              "rate": null,
              "bar_format": null,
              "postfix": null,
              "unit_divisor": 1000,
              "initial": 0,
              "colour": null
            }
          },
          "metadata": {}
        },
        {
          "output_type": "display_data",
          "data": {
            "text/plain": "Downloading:   0%|          | 0.00/232k [00:00<?, ?B/s]",
            "application/vnd.jupyter.widget-view+json": {
              "version_major": 2,
              "version_minor": 0,
              "model_id": "841cb59ea7ba4fdaaff68e3b17c13940"
            },
            "application/json": {
              "n": 0,
              "total": 231508,
              "elapsed": 0.006646156311035156,
              "ncols": null,
              "nrows": null,
              "prefix": "Downloading",
              "ascii": false,
              "unit": "B",
              "unit_scale": true,
              "rate": null,
              "bar_format": null,
              "postfix": null,
              "unit_divisor": 1000,
              "initial": 0,
              "colour": null
            }
          },
          "metadata": {}
        },
        {
          "output_type": "display_data",
          "data": {
            "text/plain": "Downloading:   0%|          | 0.00/112 [00:00<?, ?B/s]",
            "application/vnd.jupyter.widget-view+json": {
              "version_major": 2,
              "version_minor": 0,
              "model_id": "47cd5fa4bfd842d59c789e3f1dfca1ac"
            },
            "application/json": {
              "n": 0,
              "total": 112,
              "elapsed": 0.006506204605102539,
              "ncols": null,
              "nrows": null,
              "prefix": "Downloading",
              "ascii": false,
              "unit": "B",
              "unit_scale": true,
              "rate": null,
              "bar_format": null,
              "postfix": null,
              "unit_divisor": 1000,
              "initial": 0,
              "colour": null
            }
          },
          "metadata": {}
        },
        {
          "output_type": "display_data",
          "data": {
            "text/plain": "Downloading:   0%|          | 0.00/438M [00:00<?, ?B/s]",
            "application/vnd.jupyter.widget-view+json": {
              "version_major": 2,
              "version_minor": 0,
              "model_id": "0184e9b25e384fef874a28071c17d07b"
            },
            "application/json": {
              "n": 0,
              "total": 437991539,
              "elapsed": 0.006754636764526367,
              "ncols": null,
              "nrows": null,
              "prefix": "Downloading",
              "ascii": false,
              "unit": "B",
              "unit_scale": true,
              "rate": null,
              "bar_format": null,
              "postfix": null,
              "unit_divisor": 1000,
              "initial": 0,
              "colour": null
            }
          },
          "metadata": {}
        }
      ],
      "execution_count": null
    },
    {
      "source": [
        "print(f\"Regard Scores:\")\n",
        "for key, value in regard_scores.items():\n",
        "    print(f\"{key}: {value[0]}\")"
      ],
      "metadata": {
        "executionCancelledAt": null,
        "executionTime": 53,
        "lastExecutedAt": 1718430468824,
        "lastExecutedByKernel": "8854da9d-c6b3-4cc7-8543-047b759181cd",
        "lastScheduledRunId": null,
        "lastSuccessfullyExecutedCode": "print(f\"Regard Scores:\")\nfor key, value in regard_scores.items():\n    print(f\"{key}: {value[0]}\")",
        "id": "89a57616-649e-489c-925b-20852aa1249d",
        "outputId": "10dc605e-b69c-4de0-dc29-d260202b15f8"
      },
      "cell_type": "code",
      "id": "89a57616-649e-489c-925b-20852aa1249d",
      "outputs": [
        {
          "output_type": "stream",
          "name": "stdout",
          "text": "Regard Scores:\nregard: [{'label': 'positive', 'score': 0.7860166430473328}, {'label': 'other', 'score': 0.09952671080827713}, {'label': 'neutral', 'score': 0.08915407955646515}, {'label': 'negative', 'score': 0.025302622467279434}]\n"
        }
      ],
      "execution_count": null
    },
    {
      "source": [
        "!pip install detoxify"
      ],
      "metadata": {
        "executionCancelledAt": 1718429989585,
        "executionTime": 6011,
        "lastExecutedAt": 1718399661791,
        "lastExecutedByKernel": "422740d5-2948-43bf-a6f5-53f962bae01f",
        "lastScheduledRunId": null,
        "lastSuccessfullyExecutedCode": "!pip install detoxify",
        "outputsMetadata": {
          "0": {
            "height": 597,
            "type": "stream"
          }
        },
        "id": "59813038-3bae-4163-a1ec-9efcba2b4701",
        "outputId": "f5eef710-ac6a-474a-ca70-620785071387"
      },
      "cell_type": "code",
      "id": "59813038-3bae-4163-a1ec-9efcba2b4701",
      "outputs": [
        {
          "output_type": "stream",
          "name": "stdout",
          "text": "Defaulting to user installation because normal site-packages is not writeable\nCollecting detoxify\n  Downloading detoxify-0.5.2-py3-none-any.whl.metadata (13 kB)\nRequirement already satisfied: transformers in /usr/local/lib/python3.8/dist-packages (from detoxify) (4.29.0)\nRequirement already satisfied: torch>=1.7.0 in /usr/local/lib/python3.8/dist-packages (from detoxify) (1.13.0)\nRequirement already satisfied: sentencepiece>=0.1.94 in /usr/local/lib/python3.8/dist-packages (from detoxify) (0.1.97)\nRequirement already satisfied: typing-extensions in /usr/local/lib/python3.8/dist-packages (from torch>=1.7.0->detoxify) (4.9.0)\nRequirement already satisfied: nvidia-cuda-runtime-cu11==11.7.99 in /usr/local/lib/python3.8/dist-packages (from torch>=1.7.0->detoxify) (11.7.99)\nRequirement already satisfied: nvidia-cudnn-cu11==8.5.0.96 in /usr/local/lib/python3.8/dist-packages (from torch>=1.7.0->detoxify) (8.5.0.96)\nRequirement already satisfied: nvidia-cublas-cu11==11.10.3.66 in /usr/local/lib/python3.8/dist-packages (from torch>=1.7.0->detoxify) (11.10.3.66)\nRequirement already satisfied: nvidia-cuda-nvrtc-cu11==11.7.99 in /usr/local/lib/python3.8/dist-packages (from torch>=1.7.0->detoxify) (11.7.99)\nRequirement already satisfied: setuptools in /usr/local/lib/python3.8/dist-packages (from nvidia-cublas-cu11==11.10.3.66->torch>=1.7.0->detoxify) (65.6.3)\nRequirement already satisfied: wheel in /usr/local/lib/python3.8/dist-packages (from nvidia-cublas-cu11==11.10.3.66->torch>=1.7.0->detoxify) (0.38.4)\nRequirement already satisfied: filelock in /usr/local/lib/python3.8/dist-packages (from transformers->detoxify) (3.8.0)\nRequirement already satisfied: huggingface-hub<1.0,>=0.11.0 in /usr/local/lib/python3.8/dist-packages (from transformers->detoxify) (0.11.0)\nRequirement already satisfied: numpy>=1.17 in /usr/local/lib/python3.8/dist-packages (from transformers->detoxify) (1.23.2)\nRequirement already satisfied: packaging>=20.0 in /usr/local/lib/python3.8/dist-packages (from transformers->detoxify) (23.2)\nRequirement already satisfied: pyyaml>=5.1 in /usr/local/lib/python3.8/dist-packages (from transformers->detoxify) (6.0.1)\nRequirement already satisfied: regex!=2019.12.17 in /usr/local/lib/python3.8/dist-packages (from transformers->detoxify) (2022.8.17)\nRequirement already satisfied: requests in /usr/local/lib/python3.8/dist-packages (from transformers->detoxify) (2.31.0)\nRequirement already satisfied: tokenizers!=0.11.3,<0.14,>=0.11.1 in /usr/local/lib/python3.8/dist-packages (from transformers->detoxify) (0.13.2)\nRequirement already satisfied: tqdm>=4.27 in /usr/local/lib/python3.8/dist-packages (from transformers->detoxify) (4.64.0)\nRequirement already satisfied: charset-normalizer<4,>=2 in /usr/local/lib/python3.8/dist-packages (from requests->transformers->detoxify) (2.0.12)\nRequirement already satisfied: idna<4,>=2.5 in /usr/lib/python3/dist-packages (from requests->transformers->detoxify) (2.8)\nRequirement already satisfied: urllib3<3,>=1.21.1 in /usr/lib/python3/dist-packages (from requests->transformers->detoxify) (1.25.8)\nRequirement already satisfied: certifi>=2017.4.17 in /usr/lib/python3/dist-packages (from requests->transformers->detoxify) (2019.11.28)\nDownloading detoxify-0.5.2-py3-none-any.whl (12 kB)\nInstalling collected packages: detoxify\nSuccessfully installed detoxify-0.5.2\n"
        }
      ],
      "execution_count": null
    },
    {
      "source": [
        "from detoxify import Detoxify"
      ],
      "metadata": {
        "executionCancelledAt": 1718429989586,
        "executionTime": 50,
        "lastExecutedAt": 1718399661842,
        "lastExecutedByKernel": "422740d5-2948-43bf-a6f5-53f962bae01f",
        "lastScheduledRunId": null,
        "lastSuccessfullyExecutedCode": "from detoxify import Detoxify",
        "id": "b05b4263-5e00-4e82-b4ed-3eed14b78f7c"
      },
      "cell_type": "code",
      "id": "b05b4263-5e00-4e82-b4ed-3eed14b78f7c",
      "outputs": [],
      "execution_count": null
    },
    {
      "source": [
        "# Analyze potential biases\n",
        "detoxify = Detoxify('original')"
      ],
      "metadata": {
        "executionCancelledAt": 1718429989587,
        "executionTime": 3255,
        "lastExecutedAt": 1718399665097,
        "lastExecutedByKernel": "422740d5-2948-43bf-a6f5-53f962bae01f",
        "lastScheduledRunId": null,
        "lastSuccessfullyExecutedCode": "# Analyze potential biases\ndetoxify = Detoxify('original')",
        "outputsMetadata": {
          "0": {
            "height": 59,
            "type": "stream"
          }
        },
        "id": "05ed7b95-f539-4b14-98b2-2bbd3cd81f89",
        "outputId": "4594ac44-87bd-42c6-f348-a18d23e66be1",
        "colab": {
          "referenced_widgets": [
            "17bbe31332d6436b9f1635a20ccfa974",
            "31e6045c0736410c9fb399ba8630a2f0",
            "423f9bc42b8943a8bbafdc3162279507",
            "c488393cbf6f4ca7b3633257e25dc57b"
          ]
        }
      },
      "cell_type": "code",
      "id": "05ed7b95-f539-4b14-98b2-2bbd3cd81f89",
      "outputs": [
        {
          "output_type": "stream",
          "name": "stderr",
          "text": "Downloading: \"https://github.com/unitaryai/detoxify/releases/download/v0.1-alpha/toxic_original-c1212f89.ckpt\" to /home/repl/.cache/torch/hub/checkpoints/toxic_original-c1212f89.ckpt\n"
        },
        {
          "output_type": "display_data",
          "data": {
            "text/plain": "  0%|          | 0.00/418M [00:00<?, ?B/s]",
            "application/vnd.jupyter.widget-view+json": {
              "version_major": 2,
              "version_minor": 0,
              "model_id": "17bbe31332d6436b9f1635a20ccfa974"
            },
            "application/json": {
              "n": 0,
              "total": 438021897,
              "elapsed": 0.007061481475830078,
              "ncols": null,
              "nrows": null,
              "prefix": "",
              "ascii": false,
              "unit": "B",
              "unit_scale": true,
              "rate": null,
              "bar_format": null,
              "postfix": null,
              "unit_divisor": 1024,
              "initial": 0,
              "colour": null
            }
          },
          "metadata": {}
        },
        {
          "output_type": "display_data",
          "data": {
            "text/plain": "Downloading:   0%|          | 0.00/570 [00:00<?, ?B/s]",
            "application/vnd.jupyter.widget-view+json": {
              "version_major": 2,
              "version_minor": 0,
              "model_id": "31e6045c0736410c9fb399ba8630a2f0"
            },
            "application/json": {
              "n": 0,
              "total": 570,
              "elapsed": 0.006776332855224609,
              "ncols": null,
              "nrows": null,
              "prefix": "Downloading",
              "ascii": false,
              "unit": "B",
              "unit_scale": true,
              "rate": null,
              "bar_format": null,
              "postfix": null,
              "unit_divisor": 1000,
              "initial": 0,
              "colour": null
            }
          },
          "metadata": {}
        },
        {
          "output_type": "display_data",
          "data": {
            "text/plain": "Downloading:   0%|          | 0.00/232k [00:00<?, ?B/s]",
            "application/vnd.jupyter.widget-view+json": {
              "version_major": 2,
              "version_minor": 0,
              "model_id": "423f9bc42b8943a8bbafdc3162279507"
            },
            "application/json": {
              "n": 0,
              "total": 231508,
              "elapsed": 0.006182670593261719,
              "ncols": null,
              "nrows": null,
              "prefix": "Downloading",
              "ascii": false,
              "unit": "B",
              "unit_scale": true,
              "rate": null,
              "bar_format": null,
              "postfix": null,
              "unit_divisor": 1000,
              "initial": 0,
              "colour": null
            }
          },
          "metadata": {}
        },
        {
          "output_type": "display_data",
          "data": {
            "text/plain": "Downloading:   0%|          | 0.00/48.0 [00:00<?, ?B/s]",
            "application/vnd.jupyter.widget-view+json": {
              "version_major": 2,
              "version_minor": 0,
              "model_id": "c488393cbf6f4ca7b3633257e25dc57b"
            },
            "application/json": {
              "n": 0,
              "total": 48,
              "elapsed": 0.006592988967895508,
              "ncols": null,
              "nrows": null,
              "prefix": "Downloading",
              "ascii": false,
              "unit": "B",
              "unit_scale": true,
              "rate": null,
              "bar_format": null,
              "postfix": null,
              "unit_divisor": 1000,
              "initial": 0,
              "colour": null
            }
          },
          "metadata": {}
        }
      ],
      "execution_count": null
    },
    {
      "source": [
        "# Calculate toxicity\n",
        "toxicity_scores = detoxify.predict(summarized_text)\n",
        "max_toxicity = max(toxicity_scores.values())"
      ],
      "metadata": {
        "executionCancelledAt": 1718429989588,
        "executionTime": 688,
        "lastExecutedAt": 1718399665785,
        "lastExecutedByKernel": "422740d5-2948-43bf-a6f5-53f962bae01f",
        "lastScheduledRunId": null,
        "lastSuccessfullyExecutedCode": "# Calculate toxicity\ntoxicity_scores = detoxify.predict(summarized_text)\nmax_toxicity = max(toxicity_scores.values())",
        "id": "4962e40b-8ef8-4d1d-9e72-e4a124d5edbe"
      },
      "cell_type": "code",
      "id": "4962e40b-8ef8-4d1d-9e72-e4a124d5edbe",
      "outputs": [],
      "execution_count": null
    },
    {
      "source": [
        "print(f\"Maximum Toxicity: {max_toxicity}\")"
      ],
      "metadata": {
        "executionCancelledAt": 1718429989589,
        "executionTime": 68,
        "lastExecutedAt": 1718399665853,
        "lastExecutedByKernel": "422740d5-2948-43bf-a6f5-53f962bae01f",
        "lastScheduledRunId": null,
        "lastSuccessfullyExecutedCode": "print(f\"Maximum Toxicity: {max_toxicity}\")",
        "outputsMetadata": {
          "0": {
            "height": 38,
            "type": "stream"
          }
        },
        "id": "0becccc5-12f8-4058-b401-744fa873dc03",
        "outputId": "10ba317e-32ac-4407-9b22-646b63b815d6"
      },
      "cell_type": "code",
      "id": "0becccc5-12f8-4058-b401-744fa873dc03",
      "outputs": [
        {
          "output_type": "stream",
          "name": "stdout",
          "text": "Maximum Toxicity: 0.0005452524637803435\n"
        }
      ],
      "execution_count": null
    }
  ],
  "metadata": {
    "colab": {
      "provenance": [],
      "include_colab_link": true
    },
    "kernelspec": {
      "display_name": "Python 3 (ipykernel)",
      "language": "python",
      "name": "python3"
    },
    "language_info": {
      "codemirror_mode": {
        "name": "ipython",
        "version": 3
      },
      "file_extension": ".py",
      "mimetype": "text/x-python",
      "name": "python",
      "nbconvert_exporter": "python",
      "pygments_lexer": "ipython3",
      "version": "3.8.10"
    }
  },
  "nbformat": 4,
  "nbformat_minor": 5
}